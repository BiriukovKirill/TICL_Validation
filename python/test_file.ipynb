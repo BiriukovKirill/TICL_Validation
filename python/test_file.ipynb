{
 "cells": [
  {
   "cell_type": "code",
   "execution_count": 1,
   "metadata": {},
   "outputs": [],
   "source": [
    "import os\n",
    "os.chdir('/grid_mnt/data_cms_upgrade/biriukov/TICL_Validation/python')"
   ]
  },
  {
   "cell_type": "code",
   "execution_count": 2,
   "metadata": {},
   "outputs": [],
   "source": [
    "from validation.DataFile import *\n",
    "from validation.DataProcessor import *\n",
    "#from validation.Plotter import *\n",
    "filepath = '/grid_mnt/data_cms_upgrade/biriukov/data/multiElectrons_D110/'\\\n",
    "            + 'step3_no_PU/14_2_0_pre1/dumper/dumper_merged.root'"
   ]
  },
  {
   "cell_type": "code",
   "execution_count": 3,
   "metadata": {},
   "outputs": [],
   "source": [
    "tfile = DataFile(filepath)\n",
    "tprocessor = DataProcessor()\n",
    "tplotter = Combination()"
   ]
  },
  {
   "cell_type": "code",
   "execution_count": 4,
   "metadata": {},
   "outputs": [
    {
     "data": {
      "text/plain": [
       "0"
      ]
     },
     "execution_count": 4,
     "metadata": {},
     "output_type": "execute_result"
    }
   ],
   "source": [
    "tplotter.getData(tfile)"
   ]
  },
  {
   "cell_type": "code",
   "execution_count": 5,
   "metadata": {},
   "outputs": [
    {
     "data": {
      "text/plain": [
       "{'LC_reco_E': <Array [4.48, 3.38, 3.62, 17.1, ..., 0.91, 1.71, 1.62] type='407340 * float32'>,\n",
       " 'LC_reco_ET': <Array [0.729, 1.92, 0.725, 5.53, ..., 0, 1.09, 0.518] type='407340 * float32'>,\n",
       " 'LC_reco_eta': <Array [-2.44, -1.74, -1.86, ..., 2.44, 1.67, 1.68] type='407340 * float32'>,\n",
       " 'LC_reco_HD': array([ True,  True,  True, ..., False,  True,  True]),\n",
       " 'LC_reco_LD': array([False, False, False, ...,  True, False, False]),\n",
       " 'LC_sim_E': <Array [771, 0.874, 7.23, 135, ..., 19.4, 360, 672] type='1273420 * float32'>,\n",
       " 'LC_sim_ET': <Array [120, 0.314, 1.23, 19.8, ..., 6.97, 136, 250] type='1273420 * float32'>,\n",
       " 'LC_sim_eta': <Array [-2.55, -2.54, -2.56, ..., 1.64, 1.64, 1.64] type='1273420 * float32'>,\n",
       " 'LC_sim_HD': array([ True,  True,  True, ...,  True,  True,  True]),\n",
       " 'LC_sim_LD': array([False, False, False, ..., False, False, False]),\n",
       " 'Tracksters_reco_E': <Array [17.1, 118, 13.2, 134, ..., 16.2, 1.08e+03, 993] type='84674 * float32'>,\n",
       " 'Tracksters_reco_ET': <Array [5.51, 36.1, 4.74, 23.9, ..., 6.14, 175, 165] type='84674 * float32'>,\n",
       " 'Tracksters_reco_eta': <Array [-1.85, -1.85, -1.76, ..., 1.62, 2.5, 2.47] type='84674 * float32'>,\n",
       " 'Tracksters_reco_HD': array([ True,  True,  True, ...,  True, False, False]),\n",
       " 'Tracksters_reco_LD': array([False, False, False, ..., False,  True,  True]),\n",
       " 'Tracksters_sim_E': <Array [1.07e+03, 1.08e+03, ..., 1.03e+03, 1.06e+03] type='78530 * float32'>,\n",
       " 'Tracksters_sim_ET': <Array [165, 173, 122, 177, ..., 65.8, 32.2, 409, 410] type='78530 * float32'>,\n",
       " 'Tracksters_sim_eta': <Array [-2.55, 2.53, -2.49, ..., 1.62, -1.64, 1.64] type='78530 * float32'>,\n",
       " 'Tracksters_sim_HD': array([ True, False,  True, ...,  True,  True,  True]),\n",
       " 'Tracksters_sim_LD': array([False,  True, False, ..., False, False, False])}"
      ]
     },
     "execution_count": 5,
     "metadata": {},
     "output_type": "execute_result"
    }
   ],
   "source": [
    "tplotter.data\n"
   ]
  },
  {
   "cell_type": "code",
   "execution_count": 14,
   "metadata": {},
   "outputs": [
    {
     "data": {
      "text/html": [
       "<pre>[0.00182,\n",
       " 0.999,\n",
       " 1,\n",
       " 1,\n",
       " 1,\n",
       " 1,\n",
       " 1,\n",
       " 1,\n",
       " 1,\n",
       " 1,\n",
       " ...,\n",
       " 1,\n",
       " 1,\n",
       " 1,\n",
       " 1,\n",
       " 1,\n",
       " 1,\n",
       " 1,\n",
       " 1,\n",
       " 1]\n",
       "------------------\n",
       "type: 90 * float32</pre>"
      ],
      "text/plain": [
       "<Array [0.00182, 0.999, 1, 1, 1, 1, ..., 1, 1, 1, 1, 1, 1] type='90 * float32'>"
      ]
     },
     "execution_count": 14,
     "metadata": {},
     "output_type": "execute_result"
    }
   ],
   "source": [
    "tfile.openArray('ticlDumper/associations;1', 'tsCLUE3D_simToReco_CP_score')[2][0]"
   ]
  },
  {
   "cell_type": "code",
   "execution_count": 12,
   "metadata": {},
   "outputs": [
    {
     "data": {
      "text/html": [
       "<pre>[71,\n",
       " 59,\n",
       " 90,\n",
       " 154,\n",
       " 122,\n",
       " 147,\n",
       " 158,\n",
       " 170,\n",
       " 80,\n",
       " 119,\n",
       " ...,\n",
       " 181,\n",
       " 31,\n",
       " 187,\n",
       " 133,\n",
       " 147,\n",
       " 164,\n",
       " 187,\n",
       " 200,\n",
       " 188]\n",
       "-------------------\n",
       "type: 3000 * uint32</pre>"
      ],
      "text/plain": [
       "<Array [71, 59, 90, 154, 122, ..., 164, 187, 200, 188] type='3000 * uint32'>"
      ]
     },
     "execution_count": 12,
     "metadata": {},
     "output_type": "execute_result"
    }
   ],
   "source": [
    "tfile.openArray('ticlDumper/trackstersCLUE3DHigh;1','NTracksters')"
   ]
  },
  {
   "cell_type": "code",
   "execution_count": null,
   "metadata": {},
   "outputs": [],
   "source": [
    "tdict = {\n",
    "    'one': { '1_1': 1.1, '1_2': 1.2},\n",
    "    'two': {'2_1': 2.1, '2_2': 2.2}\n",
    "}\n",
    "tdict.flatten"
   ]
  }
 ],
 "metadata": {
  "kernelspec": {
   "display_name": "jlabenv",
   "language": "python",
   "name": "python3"
  },
  "language_info": {
   "codemirror_mode": {
    "name": "ipython",
    "version": 3
   },
   "file_extension": ".py",
   "mimetype": "text/x-python",
   "name": "python",
   "nbconvert_exporter": "python",
   "pygments_lexer": "ipython3",
   "version": "3.12.7"
  }
 },
 "nbformat": 4,
 "nbformat_minor": 2
}
