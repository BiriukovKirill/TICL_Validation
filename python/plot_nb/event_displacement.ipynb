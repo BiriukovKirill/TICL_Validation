{
 "cells": [
  {
   "cell_type": "code",
   "execution_count": 1,
   "metadata": {},
   "outputs": [
    {
     "data": {
      "text/plain": [
       "array([322.155, 323.149, 325.212, 326.206, 328.269, 329.263, 331.326,\n",
       "       332.32 , 334.383, 335.377, 337.44 , 338.434, 340.497, 341.491,\n",
       "       343.554, 344.548, 346.611, 347.605, 349.993, 350.987, 353.375,\n",
       "       354.369, 356.757, 357.751, 360.139, 361.133, 367.976, 374.281,\n",
       "       380.586, 386.891, 393.196, 399.501, 405.806, 412.111, 418.416,\n",
       "       424.721, 431.026, 439.251, 447.476, 455.701, 463.926, 472.151,\n",
       "       480.376, 488.601, 496.826, 505.051], dtype=float32)"
      ]
     },
     "execution_count": 1,
     "metadata": {},
     "output_type": "execute_result"
    }
   ],
   "source": [
    "import os \n",
    "os.chdir('/grid_mnt/data_cms_upgrade/biriukov/TICL_Validation/python')\n",
    "from validation.DataFile import *\n",
    "from validation.DataProcessor import *\n",
    "\n",
    "filepath = '/grid_mnt/data_cms_upgrade/biriukov/data/singleElectrons_D110/step3_no_PU/14_2_0_pre1/dumper/dumper_merged.root'\n",
    "\n",
    "tfile = DataFile(filepath)\n",
    "tprocessor = DataProcessor()\n",
    "tprocessor.zToIDMap(tfile)"
   ]
  },
  {
   "cell_type": "code",
   "execution_count": null,
   "metadata": {},
   "outputs": [],
   "source": [
    "reco_ver_x = tfile.openArray(branch_name=\"ticlDumper/trackstersTiclCandidate;1\", key=\"vertices_x\")\n",
    "reco_ver_y = tfile.openArray(branch_name=\"ticlDumper/trackstersTiclCandidate;1\", key=\"vertices_y\")\n",
    "reco_ver_z = tfile.openArray(branch_name=\"ticlDumper/trackstersTiclCandidate;1\", key=\"vertices_z\")\n",
    "\n"
   ]
  }
 ],
 "metadata": {
  "kernelspec": {
   "display_name": "jlabenv",
   "language": "python",
   "name": "python3"
  },
  "language_info": {
   "codemirror_mode": {
    "name": "ipython",
    "version": 3
   },
   "file_extension": ".py",
   "mimetype": "text/x-python",
   "name": "python",
   "nbconvert_exporter": "python",
   "pygments_lexer": "ipython3",
   "version": "3.12.7"
  }
 },
 "nbformat": 4,
 "nbformat_minor": 2
}
